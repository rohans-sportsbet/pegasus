{
 "cells": [
  {
   "cell_type": "code",
   "execution_count": 2,
   "metadata": {},
   "outputs": [
    {
     "name": "stdout",
     "output_type": "stream",
     "text": [
      "WARNING:tensorflow:From /home/ec2-user/anaconda3/envs/tensorflow_p36/gpu_cuda10.0/lib/python3.6/site-packages/tensorflow_core/__init__.py:1473: The name tf.estimator.inputs is deprecated. Please use tf.compat.v1.estimator.inputs instead.\n",
      "\n"
     ]
    }
   ],
   "source": [
    "import pandas as pd\n",
    "import tensorflow as tf\n",
    "import numpy as np"
   ]
  },
  {
   "cell_type": "code",
   "execution_count": 3,
   "metadata": {},
   "outputs": [],
   "source": [
    "df = pd.read_csv('pegasus/data/testdata/track_description.csv', encoding='utf-8-sig') \n",
    "df = df[['index', 'race_track_content']]"
   ]
  },
  {
   "cell_type": "code",
   "execution_count": 8,
   "metadata": {},
   "outputs": [],
   "source": [
    "with open('ckpt/pegasus_ckpt/racing/predictions-10000-.test.txt', encoding='utf-8', errors='ignore') as f:\n",
    "    lines = f.readlines()"
   ]
  },
  {
   "cell_type": "code",
   "execution_count": 25,
   "metadata": {},
   "outputs": [],
   "source": [
    "predictions = []\n",
    "for i in range(len(lines)):\n",
    "    if i % 2 == 1:\n",
    "        predictions.append(lines[i].replace('\\n', ''))"
   ]
  },
  {
   "cell_type": "code",
   "execution_count": 28,
   "metadata": {},
   "outputs": [],
   "source": [
    "df['summary'] = predictions"
   ]
  },
  {
   "cell_type": "code",
   "execution_count": 29,
   "metadata": {},
   "outputs": [
    {
     "data": {
      "text/html": [
       "<div>\n",
       "<style scoped>\n",
       "    .dataframe tbody tr th:only-of-type {\n",
       "        vertical-align: middle;\n",
       "    }\n",
       "\n",
       "    .dataframe tbody tr th {\n",
       "        vertical-align: top;\n",
       "    }\n",
       "\n",
       "    .dataframe thead th {\n",
       "        text-align: right;\n",
       "    }\n",
       "</style>\n",
       "<table border=\"1\" class=\"dataframe\">\n",
       "  <thead>\n",
       "    <tr style=\"text-align: right;\">\n",
       "      <th></th>\n",
       "      <th>Unnamed: 0</th>\n",
       "      <th>index</th>\n",
       "      <th>race_track_content</th>\n",
       "      <th>summary</th>\n",
       "    </tr>\n",
       "  </thead>\n",
       "  <tbody>\n",
       "    <tr>\n",
       "      <th>0</th>\n",
       "      <td>0</td>\n",
       "      <td>Albany</td>\n",
       "      <td>Beautiful beaches are tucked in around the sou...</td>\n",
       "      <td>The city of Albany is famous for its beautiful...</td>\n",
       "    </tr>\n",
       "    <tr>\n",
       "      <th>1</th>\n",
       "      <td>1</td>\n",
       "      <td>Albury</td>\n",
       "      <td>The Albury Racing Club conducts sixteen (16) t...</td>\n",
       "      <td>The Albury Racing Club conducts sixteen (16) t...</td>\n",
       "    </tr>\n",
       "    <tr>\n",
       "      <th>2</th>\n",
       "      <td>2</td>\n",
       "      <td>Ararat</td>\n",
       "      <td>In 1998 the Wimmera Racing Club took control o...</td>\n",
       "      <td>In 1998 the Wimmera Racing Club took control o...</td>\n",
       "    </tr>\n",
       "    <tr>\n",
       "      <th>3</th>\n",
       "      <td>3</td>\n",
       "      <td>Armidale</td>\n",
       "      <td>Armidale, the town locals claim has a city amb...</td>\n",
       "      <td>Armidale is set in the New England Tablelands....</td>\n",
       "    </tr>\n",
       "    <tr>\n",
       "      <th>4</th>\n",
       "      <td>4</td>\n",
       "      <td>Bairnsdale</td>\n",
       "      <td>Bairnsdale races seven times a year, five of w...</td>\n",
       "      <td>Bairnsdale races seven times a year. Five of w...</td>\n",
       "    </tr>\n",
       "    <tr>\n",
       "      <th>...</th>\n",
       "      <td>...</td>\n",
       "      <td>...</td>\n",
       "      <td>...</td>\n",
       "      <td>...</td>\n",
       "    </tr>\n",
       "    <tr>\n",
       "      <th>94</th>\n",
       "      <td>94</td>\n",
       "      <td>Warrnambool</td>\n",
       "      <td>Warrnambool Racing Club is situated at Warrnam...</td>\n",
       "      <td>Warrnambool Racing Club is on the outskirts of...</td>\n",
       "    </tr>\n",
       "    <tr>\n",
       "      <th>95</th>\n",
       "      <td>95</td>\n",
       "      <td>Wellington</td>\n",
       "      <td>The Wellington Race Club is famous around the ...</td>\n",
       "      <td>The Wellington Race Club is famous around the ...</td>\n",
       "    </tr>\n",
       "    <tr>\n",
       "      <th>96</th>\n",
       "      <td>96</td>\n",
       "      <td>Wodonga</td>\n",
       "      <td>Wodonga Races is 306 kilomteres nnorth east of...</td>\n",
       "      <td>The Wodonga Cup is run in late November. The t...</td>\n",
       "    </tr>\n",
       "    <tr>\n",
       "      <th>97</th>\n",
       "      <td>97</td>\n",
       "      <td>Wyong</td>\n",
       "      <td>Wyong Race Track is situated on the central co...</td>\n",
       "      <td>Wyong Race Track is on the central coast of NS...</td>\n",
       "    </tr>\n",
       "    <tr>\n",
       "      <th>98</th>\n",
       "      <td>98</td>\n",
       "      <td>Young</td>\n",
       "      <td>The Young Turf Club holds its annual cup meeti...</td>\n",
       "      <td>The Young Turf Club holds its annual cup meeti...</td>\n",
       "    </tr>\n",
       "  </tbody>\n",
       "</table>\n",
       "<p>99 rows × 4 columns</p>\n",
       "</div>"
      ],
      "text/plain": [
       "    Unnamed: 0        index  \\\n",
       "0            0       Albany   \n",
       "1            1       Albury   \n",
       "2            2       Ararat   \n",
       "3            3     Armidale   \n",
       "4            4   Bairnsdale   \n",
       "..         ...          ...   \n",
       "94          94  Warrnambool   \n",
       "95          95   Wellington   \n",
       "96          96      Wodonga   \n",
       "97          97        Wyong   \n",
       "98          98        Young   \n",
       "\n",
       "                                   race_track_content  \\\n",
       "0   Beautiful beaches are tucked in around the sou...   \n",
       "1   The Albury Racing Club conducts sixteen (16) t...   \n",
       "2   In 1998 the Wimmera Racing Club took control o...   \n",
       "3   Armidale, the town locals claim has a city amb...   \n",
       "4   Bairnsdale races seven times a year, five of w...   \n",
       "..                                                ...   \n",
       "94  Warrnambool Racing Club is situated at Warrnam...   \n",
       "95  The Wellington Race Club is famous around the ...   \n",
       "96  Wodonga Races is 306 kilomteres nnorth east of...   \n",
       "97  Wyong Race Track is situated on the central co...   \n",
       "98  The Young Turf Club holds its annual cup meeti...   \n",
       "\n",
       "                                              summary  \n",
       "0   The city of Albany is famous for its beautiful...  \n",
       "1   The Albury Racing Club conducts sixteen (16) t...  \n",
       "2   In 1998 the Wimmera Racing Club took control o...  \n",
       "3   Armidale is set in the New England Tablelands....  \n",
       "4   Bairnsdale races seven times a year. Five of w...  \n",
       "..                                                ...  \n",
       "94  Warrnambool Racing Club is on the outskirts of...  \n",
       "95  The Wellington Race Club is famous around the ...  \n",
       "96  The Wodonga Cup is run in late November. The t...  \n",
       "97  Wyong Race Track is on the central coast of NS...  \n",
       "98  The Young Turf Club holds its annual cup meeti...  \n",
       "\n",
       "[99 rows x 4 columns]"
      ]
     },
     "execution_count": 29,
     "metadata": {},
     "output_type": "execute_result"
    }
   ],
   "source": []
  },
  {
   "cell_type": "code",
   "execution_count": 30,
   "metadata": {},
   "outputs": [],
   "source": [
    "df.to_csv('summaries.csv', encoding='utf-8-sig')"
   ]
  }
 ],
 "metadata": {
  "kernelspec": {
   "display_name": "conda_tensorflow_p36",
   "language": "python",
   "name": "conda_tensorflow_p36"
  },
  "language_info": {
   "codemirror_mode": {
    "name": "ipython",
    "version": 3
   },
   "file_extension": ".py",
   "mimetype": "text/x-python",
   "name": "python",
   "nbconvert_exporter": "python",
   "pygments_lexer": "ipython3",
   "version": "3.6.13"
  }
 },
 "nbformat": 4,
 "nbformat_minor": 4
}
