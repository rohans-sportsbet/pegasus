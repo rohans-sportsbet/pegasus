{
 "cells": [
  {
   "cell_type": "code",
   "execution_count": 56,
   "metadata": {},
   "outputs": [],
   "source": [
    "import pandas as pd\n",
    "import tensorflow as tf"
   ]
  },
  {
   "cell_type": "markdown",
   "metadata": {},
   "source": [
    "Step 1: Read raw data"
   ]
  },
  {
   "cell_type": "code",
   "execution_count": 57,
   "metadata": {},
   "outputs": [],
   "source": [
    "with open('pegasus/data/testdata/racing_training_pairs_50.txt', encoding='utf-8', errors='ignore') as f:\n",
    "    lines = f.readlines()"
   ]
  },
  {
   "cell_type": "code",
   "execution_count": 58,
   "metadata": {},
   "outputs": [],
   "source": [
    "inputs = []\n",
    "targets = []\n",
    "\n",
    "index_flag = True\n",
    "input_flag = False\n",
    "target_flag = False\n",
    "for i in range(len(lines)):\n",
    "    if index_flag:\n",
    "        index_flag = False\n",
    "        input_flag = True\n",
    "        target_flag = False\n",
    "    elif input_flag:\n",
    "        inputs.append(lines[i].rstrip(\"\\n\"))\n",
    "        index_flag = False\n",
    "        input_flag = False\n",
    "        target_flag = True\n",
    "    elif target_flag:\n",
    "        targets.append(lines[i].rstrip(\"\\n\"))\n",
    "        index_flag = True\n",
    "        input_flag = False\n",
    "        target_flag = False"
   ]
  },
  {
   "cell_type": "markdown",
   "metadata": {},
   "source": [
    "Step 2: Split train-test"
   ]
  },
  {
   "cell_type": "code",
   "execution_count": 59,
   "metadata": {},
   "outputs": [],
   "source": [
    "import numpy as np"
   ]
  },
  {
   "cell_type": "code",
   "execution_count": 60,
   "metadata": {},
   "outputs": [],
   "source": [
    "inputs = np.array(inputs)\n",
    "targets = np.array(targets)\n",
    "shuffle = np.random.permutation(len(inputs))\n",
    "num_train = int(len(inputs)*0.8)"
   ]
  },
  {
   "cell_type": "code",
   "execution_count": 61,
   "metadata": {},
   "outputs": [],
   "source": [
    "train_inputs = inputs[shuffle[0:num_train+1]]\n",
    "train_targets = targets[shuffle[0:num_train+1]]\n",
    "test_inputs = inputs[shuffle[num_train+1:]]\n",
    "test_targets = targets[shuffle[num_train+1:]]"
   ]
  },
  {
   "cell_type": "markdown",
   "metadata": {},
   "source": [
    "Step 3: Save to tfrecord"
   ]
  },
  {
   "cell_type": "code",
   "execution_count": 62,
   "metadata": {},
   "outputs": [],
   "source": [
    "with tf.io.TFRecordWriter(\"pegasus/data/testdata/racing_train.tfrecord\") as writer:\n",
    "    for i in range(len(train_input)):\n",
    "        inputs = train_inputs[i]\n",
    "        targets = train_targets[i]\n",
    "        example = tf.train.Example(\n",
    "            features=tf.train.Features(\n",
    "                feature={\n",
    "                    \"inputs\": tf.train.Feature(bytes_list=tf.train.BytesList(value=[inputs.encode('utf-8')])),\n",
    "                    \"targets\": tf.train.Feature(bytes_list=tf.train.BytesList(value=[targets.encode('utf-8')])),\n",
    "                }\n",
    "            )\n",
    "        )\n",
    "        writer.write(example.SerializeToString())"
   ]
  },
  {
   "cell_type": "code",
   "execution_count": 63,
   "metadata": {},
   "outputs": [],
   "source": [
    "with tf.io.TFRecordWriter(\"pegasus/data/testdata/racing_test.tfrecord\") as writer:\n",
    "    for i in range(len(test_input)):\n",
    "        inputs = test_inputs[i]\n",
    "        targets = test_targets[i]\n",
    "        example = tf.train.Example(\n",
    "            features=tf.train.Features(\n",
    "                feature={\n",
    "                    \"inputs\": tf.train.Feature(bytes_list=tf.train.BytesList(value=[inputs.encode('utf-8')])),\n",
    "                    \"targets\": tf.train.Feature(bytes_list=tf.train.BytesList(value=[targets.encode('utf-8')])),\n",
    "                }\n",
    "            )\n",
    "        )\n",
    "        writer.write(example.SerializeToString())"
   ]
  }
 ],
 "metadata": {
  "kernelspec": {
   "display_name": "conda_tensorflow_p36",
   "language": "python",
   "name": "conda_tensorflow_p36"
  },
  "language_info": {
   "codemirror_mode": {
    "name": "ipython",
    "version": 3
   },
   "file_extension": ".py",
   "mimetype": "text/x-python",
   "name": "python",
   "nbconvert_exporter": "python",
   "pygments_lexer": "ipython3",
   "version": "3.6.13"
  }
 },
 "nbformat": 4,
 "nbformat_minor": 4
}
